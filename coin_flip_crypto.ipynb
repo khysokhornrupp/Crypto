{
  "cells": [
    {
      "cell_type": "code",
      "execution_count": 492,
      "metadata": {},
      "outputs": [],
      "source": [
        "import math "
      ]
    },
    {
      "cell_type": "markdown",
      "metadata": {
        "id": "QtCcElRBZ51Y"
      },
      "source": [
        "# Alice selects two prime numbers p and q and send n=p*q to Bob"
      ]
    },
    {
      "cell_type": "code",
      "execution_count": 493,
      "metadata": {
        "colab": {
          "base_uri": "https://localhost:8080/",
          "height": 0
        },
        "id": "t377KipZUx2p",
        "outputId": "8961f077-ad94-4d6c-bf9a-2a7b793558d2"
      },
      "outputs": [
        {
          "name": "stdout",
          "output_type": "stream",
          "text": [
            "Alice send message n=2426317299991771937 to Bob.\n"
          ]
        }
      ],
      "source": [
        "𝑝_num=2038074743\n",
        "𝑞_num=1190494759\n",
        "# 𝑝_num=7\n",
        "# 𝑞_num=11\n",
        "n = p_num * q_num\n",
        "print(f\"Alice send message n={n} to Bob.\")"
      ]
    },
    {
      "cell_type": "code",
      "execution_count": 494,
      "metadata": {
        "colab": {
          "base_uri": "https://localhost:8080/",
          "height": 0
        },
        "id": "TN4GvUyyW0wP",
        "outputId": "7d9fcab8-a15b-40b5-93c6-955f9e5269f5"
      },
      "outputs": [],
      "source": [
        "# print(f\"{p_num} mod 4 : {p_num % 4}\")\n",
        "# print(f\"{q_num} mod 4 : {q_num % 4}\")\n",
        "# print(f\"3 mod 4 : {3 % 4}\")"
      ]
    },
    {
      "cell_type": "markdown",
      "metadata": {
        "id": "iKgLRl-CaH7k"
      },
      "source": [
        "## Bob selects a message x and send calculate y = x^2 mod n, then send to Alice"
      ]
    },
    {
      "cell_type": "code",
      "execution_count": 495,
      "metadata": {
        "colab": {
          "base_uri": "https://localhost:8080/",
          "height": 0
        },
        "id": "gKHu752KVQJ5",
        "outputId": "7342bd68-267d-4cf8-993e-d9d2aadcd0ab"
      },
      "outputs": [
        {
          "name": "stdout",
          "output_type": "stream",
          "text": [
            "Bob select a message x=18045 and send to Alice y=325622025\n"
          ]
        }
      ],
      "source": [
        "x = 1414213562373095048 \n",
        "# x = 15\n",
        "y = (int)(x**2) % n\n",
        "print(f\"Bob select a message x={x} and send to Alice y={y}\")"
      ]
    },
    {
      "cell_type": "markdown",
      "metadata": {
        "id": "7r10UluHaT5A"
      },
      "source": [
        "## Alice computes X_p and X_q using p and q"
      ]
    },
    {
      "cell_type": "code",
      "execution_count": 496,
      "metadata": {
        "colab": {
          "base_uri": "https://localhost:8080/",
          "height": 0
        },
        "id": "TIpvUXqeVx_b",
        "outputId": "3eeb431a-f607-4fb4-c636-f27bf32f1824"
      },
      "outputs": [
        {
          "name": "stdout",
          "output_type": "stream",
          "text": [
            "The value of x_p congruent to +/- 2038056698 (mod 2038074743) \n",
            "The value of x_q congruent to +/- 18045 (mod 1190494759) \n"
          ]
        }
      ],
      "source": [
        "# decrypt the result \n",
        "fsr_p = (int)((p_num+1)/4)\n",
        "fsr_q = (int)((q_num+1)/4)\n",
        "x_p = pow(y, fsr_p, p_num)\n",
        "x_q = pow(y, fsr_q, q_num)\n",
        "\n",
        "b = {x_p, x_q}\n",
        "\n",
        "print(f\"The value of x_p congruent to +/- {x_p} (mod {p_num}) \")\n",
        "print(f\"The value of x_q congruent to +/- {x_q} (mod {q_num}) \")"
      ]
    },
    {
      "cell_type": "code",
      "execution_count": 497,
      "metadata": {},
      "outputs": [
        {
          "name": "stdout",
          "output_type": "stream",
          "text": [
            "x = 18045 is subset of b = {2038056698, 18045}\n"
          ]
        }
      ],
      "source": [
        "print(f\"x = {x} is subset of b = {b}\")"
      ]
    },
    {
      "cell_type": "code",
      "execution_count": 498,
      "metadata": {},
      "outputs": [
        {
          "name": "stdout",
          "output_type": "stream",
          "text": [
            "Bob win...\n"
          ]
        }
      ],
      "source": [
        "if({x}.issubset(b)):\n",
        "    print(\"Bob win...\")\n",
        "else :\n",
        "    print(\"Alice win...\")"
      ]
    },
    {
      "cell_type": "markdown",
      "metadata": {},
      "source": [
        "**Calculate X so Bob can win**"
      ]
    },
    {
      "cell_type": "code",
      "execution_count": 499,
      "metadata": {},
      "outputs": [
        {
          "name": "stdout",
          "output_type": "stream",
          "text": [
            "x=134\n"
          ]
        }
      ],
      "source": [
        "print(f'x={int (math.sqrt(sorted(b)[0] % n))}')"
      ]
    },
    {
      "cell_type": "markdown",
      "metadata": {
        "id": "HiXDbxxgaeBt"
      },
      "source": [
        "**bold text**##**Chinese remainder**"
      ]
    },
    {
      "cell_type": "code",
      "execution_count": 500,
      "metadata": {
        "id": "kKRrx_CDajom"
      },
      "outputs": [],
      "source": [
        "# Python 3.6\n",
        "from functools import reduce\n",
        "def chinese_remainder(n, a):\n",
        "    sum = 0\n",
        "    prod = reduce(lambda a, b: a*b, n)\n",
        "    # print(f\"prod {prod}\")\n",
        "    for n_i, a_i in zip(n, a):\n",
        "        p = prod // n_i\n",
        "        # print(f\"ai {a_i} and p {p}\")\n",
        "        sum += a_i * mul_inv(p, n_i) * p\n",
        "    return sum % prod\n",
        "\n",
        "def mul_inv(a, b):\n",
        "    b0 = b\n",
        "    x0, x1 = 0, 1\n",
        "    if b == 1: return 1\n",
        "    while a > 1:\n",
        "        q = a // b\n",
        "        a, b = b, a%b\n",
        "        x0, x1 = x1 - q * x0, x0\n",
        "    if x1 < 0: x1 += b0\n",
        "    return x1"
      ]
    },
    {
      "cell_type": "code",
      "execution_count": 501,
      "metadata": {
        "colab": {
          "base_uri": "https://localhost:8080/",
          "height": 0
        },
        "id": "KS6y1lhamiqR",
        "outputId": "596b4c12-01fb-4fe8-b9b5-af0d99e20b27"
      },
      "outputs": [
        {
          "name": "stdout",
          "output_type": "stream",
          "text": [
            "[2038056698, 18045] and Chiness remainder val: 616165067664587301\n",
            "alternative solutions: -1810152232327184636\n",
            "[2038056698, -18045] and Chiness remainder val: 2426317299991753892\n",
            "alternative solutions: -18045\n",
            "[-2038056698, 18045] and Chiness remainder val: 18045\n",
            "alternative solutions: -2426317299991753892\n",
            "[-2038056698, -18045] and Chiness remainder val: 1810152232327184636\n",
            "alternative solutions: -616165067664587301\n"
          ]
        }
      ],
      "source": [
        "prime_nums = [p_num, q_num]\n",
        "for i in range(1, 3):\n",
        "  for j in range (1, 3):\n",
        "    # print(f\"i:{i} and j: {j}\")\n",
        "    a = [((-1)**(i+1))*x_p, ((-1)**(j+1))*x_q]\n",
        "    cr = chinese_remainder(prime_nums, a)\n",
        "    print(f\"{a} and Chiness remainder val: {cr}\")\n",
        "    print(f\"alternative solutions: {cr-n}\")"
      ]
    },
    {
      "cell_type": "code",
      "execution_count": 502,
      "metadata": {
        "colab": {
          "base_uri": "https://localhost:8080/",
          "height": 0
        },
        "id": "5CIi5qtKhy8B",
        "outputId": "1015e255-502e-42ab-f8c5-8f7191e5c51e"
      },
      "outputs": [
        {
          "name": "stdout",
          "output_type": "stream",
          "text": [
            "(message x=18045 and residual 18045\n",
            "(message x=-18045 and residual 2426317299991753892\n",
            "(message x=18045 and residual 18045\n"
          ]
        }
      ],
      "source": [
        "for i in range(0, 3):\n",
        "  sign = (-1)**i\n",
        "  mx = sign * x\n",
        "  print(f\"(message x={mx} and residual {mx % n}\")"
      ]
    },
    {
      "cell_type": "code",
      "execution_count": 503,
      "metadata": {
        "colab": {
          "base_uri": "https://localhost:8080/",
          "height": 0
        },
        "id": "FT6K91ryP-ah",
        "outputId": "a04fc0c7-6daa-469d-f649-7ad957795490"
      },
      "outputs": [
        {
          "name": "stdout",
          "output_type": "stream",
          "text": [
            "1012103737618676889\n",
            "1414213562373095048\n"
          ]
        }
      ],
      "source": [
        "#  alice: +/-1012103737618676889\n",
        "# +/-937850352623334103\n",
        "alice_send = 1012103737618676889\n",
        "#1\n",
        "print(alice_send % n)\n",
        "# 2\n",
        "print((-1*alice_send) % n)"
      ]
    }
  ],
  "metadata": {
    "colab": {
      "collapsed_sections": [],
      "name": "coin_flip_crypto.ipynb",
      "provenance": []
    },
    "kernelspec": {
      "display_name": "Python 3",
      "name": "python3"
    },
    "language_info": {
      "codemirror_mode": {
        "name": "ipython",
        "version": 3
      },
      "file_extension": ".py",
      "mimetype": "text/x-python",
      "name": "python",
      "nbconvert_exporter": "python",
      "pygments_lexer": "ipython3",
      "version": "3.8.10"
    }
  },
  "nbformat": 4,
  "nbformat_minor": 0
}
